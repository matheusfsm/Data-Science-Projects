{
  "nbformat": 4,
  "nbformat_minor": 0,
  "metadata": {
    "colab": {
      "name": "Acidentes_Trânsito_SP.ipynb",
      "provenance": [],
      "collapsed_sections": [],
      "include_colab_link": true
    },
    "kernelspec": {
      "name": "python3",
      "display_name": "Python 3"
    }
  },
  "cells": [
    {
      "cell_type": "markdown",
      "metadata": {
        "id": "view-in-github",
        "colab_type": "text"
      },
      "source": [
        "<a href=\"https://colab.research.google.com/github/matheusfsm/datascience_steps/blob/master/Acidentes_Tr%C3%A2nsito_SP.ipynb\" target=\"_parent\"><img src=\"https://colab.research.google.com/assets/colab-badge.svg\" alt=\"Open In Colab\"/></a>"
      ]
    },
    {
      "cell_type": "markdown",
      "metadata": {
        "id": "kLI0gJtzDGuQ",
        "colab_type": "text"
      },
      "source": [
        "<center><img alt=\"Colaboratory logo\" width=\"40%\" src=\"https://raw.githubusercontent.com/matheusfsm/datascience_steps/master/datahivelogo5.jpg\">\n",
        "\n",
        "---\n",
        "\n",
        "# Análise dos Dados de acidentes de trânsito no estado de São Paulo.\n",
        "\n",
        "Os dados do [Infosiga SP](https://bit.ly/3cOIPL7) mostram que o Estado de São Paulo registrou cerca de **143 mil** acidentes de trânsito em 2019.\n",
        "\n",
        "Tendo como objetivo reduzir os acidentes, através de articulações com outras pastas da administração estadual, foi criado o  [Programa Respeito à Vida](http://www.respeitoavida.sp.gov.br/), que fornece dados em seu portal.\n",
        "\n",
        "Neste *notebook* iremos analisar dados de acidentes que resultaram em óbitos, e ver quais insights podem ser extraídos dos dados brutos.\n"
      ]
    },
    {
      "cell_type": "markdown",
      "metadata": {
        "id": "0zxQHhIUDF_2",
        "colab_type": "text"
      },
      "source": [
        "## Obtenção dos Dados\n"
      ]
    },
    {
      "cell_type": "code",
      "metadata": {
        "id": "Vhp2wMPgJ6zX",
        "colab_type": "code",
        "colab": {}
      },
      "source": [
        "# importar os pacotes necessarios\n",
        "import pandas as pd\n",
        "from pandas_profiling import ProfileReport\n",
        "import matplotlib.pyplot as plt\n",
        "import seaborn as sns"
      ],
      "execution_count": 0,
      "outputs": []
    },
    {
      "cell_type": "code",
      "metadata": {
        "id": "qdDl3vwEoNef",
        "colab_type": "code",
        "outputId": "ff9eebc4-d302-42af-f2aa-e6694a703707",
        "colab": {
          "base_uri": "https://localhost:8080/",
          "height": 34
        }
      },
      "source": [
        "# instalando pandasprofiling\n",
        "\n",
        "!pip install https://github.com/pandas-profiling/pandas-profiling/archive/master.zip -q"
      ],
      "execution_count": 0,
      "outputs": [
        {
          "output_type": "stream",
          "text": [
            "  Building wheel for pandas-profiling (setup.py) ... \u001b[?25l\u001b[?25hdone\n"
          ],
          "name": "stdout"
        }
      ]
    },
    {
      "cell_type": "markdown",
      "metadata": {
        "id": "qb5By2nIMS6m",
        "colab_type": "text"
      },
      "source": [
        "## Análise dos Dados\n"
      ]
    },
    {
      "cell_type": "code",
      "metadata": {
        "id": "ObRX6mSmpyCY",
        "colab_type": "code",
        "colab": {}
      },
      "source": [
        "#importando arquivo para um dataframe\n",
        "df = pd.read_csv('https://raw.githubusercontent.com/carlosfab/escola-data-science/master/datasets/acidentes_sp_clean.csv')"
      ],
      "execution_count": 0,
      "outputs": []
    },
    {
      "cell_type": "code",
      "metadata": {
        "id": "EWR0bwsUZr-C",
        "colab_type": "code",
        "outputId": "5d99a1d7-eea7-42e8-8930-07a0e542c5fc",
        "colab": {
          "base_uri": "https://localhost:8080/",
          "height": 377
        }
      },
      "source": [
        "#mostrando 5 primeiras entradas\n",
        "df.head()"
      ],
      "execution_count": 0,
      "outputs": [
        {
          "output_type": "execute_result",
          "data": {
            "text/html": [
              "<div>\n",
              "<style scoped>\n",
              "    .dataframe tbody tr th:only-of-type {\n",
              "        vertical-align: middle;\n",
              "    }\n",
              "\n",
              "    .dataframe tbody tr th {\n",
              "        vertical-align: top;\n",
              "    }\n",
              "\n",
              "    .dataframe thead th {\n",
              "        text-align: right;\n",
              "    }\n",
              "</style>\n",
              "<table border=\"1\" class=\"dataframe\">\n",
              "  <thead>\n",
              "    <tr style=\"text-align: right;\">\n",
              "      <th></th>\n",
              "      <th>Id da Delegacia (RDO)</th>\n",
              "      <th>Número do Bo (RDO)</th>\n",
              "      <th>Ano do BO (RDO)</th>\n",
              "      <th>Data do Óbito</th>\n",
              "      <th>Data do Acidente</th>\n",
              "      <th>Tipo de via</th>\n",
              "      <th>Dia do óbito</th>\n",
              "      <th>Mês do Óbito</th>\n",
              "      <th>Mês Óbito Descrição</th>\n",
              "      <th>Ano do Óbito</th>\n",
              "      <th>Ano/Mês do Óbito</th>\n",
              "      <th>Dia da Semana</th>\n",
              "      <th>Hora do Acidente</th>\n",
              "      <th>Turno</th>\n",
              "      <th>Município</th>\n",
              "      <th>Região Administrativa</th>\n",
              "      <th>Logradouro</th>\n",
              "      <th>Númeral / KM</th>\n",
              "      <th>Jurisdição</th>\n",
              "      <th>Administração</th>\n",
              "      <th>Conservação</th>\n",
              "      <th>Tipo do local da ocorrência</th>\n",
              "      <th>LAT_(GEO)</th>\n",
              "      <th>LONG_(GEO)</th>\n",
              "      <th>Tipo do veículo da vítima</th>\n",
              "      <th>Tipo de vítima</th>\n",
              "      <th>Local do óbito</th>\n",
              "      <th>Tipo de acidente</th>\n",
              "      <th>Sub Tipo do Acidente</th>\n",
              "      <th>Tempo entre o Acidente e o óbito</th>\n",
              "      <th>Sexo</th>\n",
              "      <th>Faixa etária</th>\n",
              "      <th>Idade da vítima</th>\n",
              "      <th>Outro Veículo Envolvido</th>\n",
              "    </tr>\n",
              "  </thead>\n",
              "  <tbody>\n",
              "    <tr>\n",
              "      <th>0</th>\n",
              "      <td>120514</td>\n",
              "      <td>889</td>\n",
              "      <td>2020</td>\n",
              "      <td>2020-04-30</td>\n",
              "      <td>2020-04-30</td>\n",
              "      <td>Rodovias</td>\n",
              "      <td>30</td>\n",
              "      <td>4</td>\n",
              "      <td>ABRIL</td>\n",
              "      <td>2020</td>\n",
              "      <td>2020.04</td>\n",
              "      <td>QUINTA</td>\n",
              "      <td>17:30:00</td>\n",
              "      <td>TARDE</td>\n",
              "      <td>ARACARIGUAMA</td>\n",
              "      <td>Sorocaba</td>\n",
              "      <td>SP 280</td>\n",
              "      <td>50,0</td>\n",
              "      <td>ESTADUAL</td>\n",
              "      <td>CONCESSIONÁRIA</td>\n",
              "      <td>VIAOESTE</td>\n",
              "      <td>PUBLICO</td>\n",
              "      <td>-23.439186</td>\n",
              "      <td>-47.065945</td>\n",
              "      <td>ONIBUS</td>\n",
              "      <td>CONDUTOR</td>\n",
              "      <td>VIA</td>\n",
              "      <td>CHOQUE</td>\n",
              "      <td>VEÍCULO ESTACIONADO</td>\n",
              "      <td>Mesmo dia</td>\n",
              "      <td>MASCULINO</td>\n",
              "      <td>45-49</td>\n",
              "      <td>48.0</td>\n",
              "      <td>ONIBUS</td>\n",
              "    </tr>\n",
              "    <tr>\n",
              "      <th>1</th>\n",
              "      <td>120514</td>\n",
              "      <td>889</td>\n",
              "      <td>2020</td>\n",
              "      <td>2020-04-30</td>\n",
              "      <td>2020-04-30</td>\n",
              "      <td>Rodovias</td>\n",
              "      <td>30</td>\n",
              "      <td>4</td>\n",
              "      <td>ABRIL</td>\n",
              "      <td>2020</td>\n",
              "      <td>2020.04</td>\n",
              "      <td>QUINTA</td>\n",
              "      <td>17:30:00</td>\n",
              "      <td>TARDE</td>\n",
              "      <td>ARACARIGUAMA</td>\n",
              "      <td>Sorocaba</td>\n",
              "      <td>SP 280</td>\n",
              "      <td>50,0</td>\n",
              "      <td>ESTADUAL</td>\n",
              "      <td>CONCESSIONÁRIA</td>\n",
              "      <td>VIAOESTE</td>\n",
              "      <td>PUBLICO</td>\n",
              "      <td>-23.439186</td>\n",
              "      <td>-47.065945</td>\n",
              "      <td>ONIBUS</td>\n",
              "      <td>PASSAGEIRO</td>\n",
              "      <td>ESTABELECIMENTO DE SAUDE</td>\n",
              "      <td>CHOQUE</td>\n",
              "      <td>VEÍCULO ESTACIONADO</td>\n",
              "      <td>Mesmo dia</td>\n",
              "      <td>MASCULINO</td>\n",
              "      <td>35-39</td>\n",
              "      <td>36.0</td>\n",
              "      <td>ONIBUS</td>\n",
              "    </tr>\n",
              "    <tr>\n",
              "      <th>2</th>\n",
              "      <td>110429</td>\n",
              "      <td>3887</td>\n",
              "      <td>2020</td>\n",
              "      <td>2020-04-30</td>\n",
              "      <td>2020-04-17</td>\n",
              "      <td>Rodovias</td>\n",
              "      <td>30</td>\n",
              "      <td>4</td>\n",
              "      <td>ABRIL</td>\n",
              "      <td>2020</td>\n",
              "      <td>2020.04</td>\n",
              "      <td>SEXTA</td>\n",
              "      <td>3:50:00</td>\n",
              "      <td>MADRUGADA</td>\n",
              "      <td>SAO JOSE DO RIO PRETO</td>\n",
              "      <td>São José do Rio Preto</td>\n",
              "      <td>BR 153</td>\n",
              "      <td>57,5</td>\n",
              "      <td>FEDERAL</td>\n",
              "      <td>CONCESSIONÁRIA</td>\n",
              "      <td>TRANSBRASILIANA</td>\n",
              "      <td>PUBLICO</td>\n",
              "      <td>-20.772532</td>\n",
              "      <td>-49.350863</td>\n",
              "      <td>MOTOCICLETA</td>\n",
              "      <td>CONDUTOR</td>\n",
              "      <td>ESTABELECIMENTO DE SAUDE</td>\n",
              "      <td>CHOQUE</td>\n",
              "      <td>DEFENSA / BARREIRA</td>\n",
              "      <td>Até 30 dias</td>\n",
              "      <td>MASCULINO</td>\n",
              "      <td>25-29</td>\n",
              "      <td>26.0</td>\n",
              "      <td>NÃO HÁ</td>\n",
              "    </tr>\n",
              "    <tr>\n",
              "      <th>3</th>\n",
              "      <td>30309</td>\n",
              "      <td>1745</td>\n",
              "      <td>2020</td>\n",
              "      <td>2020-04-30</td>\n",
              "      <td>2020-04-30</td>\n",
              "      <td>Rodovias</td>\n",
              "      <td>30</td>\n",
              "      <td>4</td>\n",
              "      <td>ABRIL</td>\n",
              "      <td>2020</td>\n",
              "      <td>2020.04</td>\n",
              "      <td>QUINTA</td>\n",
              "      <td>18:30:00</td>\n",
              "      <td>NOITE</td>\n",
              "      <td>SUZANO</td>\n",
              "      <td>Metropolitana de São Paulo</td>\n",
              "      <td>SP 021</td>\n",
              "      <td>110,0</td>\n",
              "      <td>ESTADUAL</td>\n",
              "      <td>CONCESSIONÁRIA</td>\n",
              "      <td>SPMAR</td>\n",
              "      <td>PUBLICO</td>\n",
              "      <td>-23.566580</td>\n",
              "      <td>-46.342199</td>\n",
              "      <td>PEDESTRE</td>\n",
              "      <td>PEDESTRE</td>\n",
              "      <td>VIA</td>\n",
              "      <td>ATROPELAMENTO</td>\n",
              "      <td>CRUZANDO A VIA</td>\n",
              "      <td>Mesmo dia</td>\n",
              "      <td>MASCULINO</td>\n",
              "      <td>NAO DISPONIVEL</td>\n",
              "      <td>NaN</td>\n",
              "      <td>AUTOMOVEL</td>\n",
              "    </tr>\n",
              "    <tr>\n",
              "      <th>4</th>\n",
              "      <td>70923</td>\n",
              "      <td>1373</td>\n",
              "      <td>2020</td>\n",
              "      <td>2020-04-30</td>\n",
              "      <td>2020-04-30</td>\n",
              "      <td>Vias Municipais</td>\n",
              "      <td>30</td>\n",
              "      <td>4</td>\n",
              "      <td>ABRIL</td>\n",
              "      <td>2020</td>\n",
              "      <td>2020.04</td>\n",
              "      <td>QUINTA</td>\n",
              "      <td>17:50:00</td>\n",
              "      <td>TARDE</td>\n",
              "      <td>LIMEIRA</td>\n",
              "      <td>Campinas</td>\n",
              "      <td>RUA ITAPEMA</td>\n",
              "      <td>481,0</td>\n",
              "      <td>MUNICIPAL</td>\n",
              "      <td>PREFEITURA</td>\n",
              "      <td>PREFEITURA</td>\n",
              "      <td>PUBLICO</td>\n",
              "      <td>-22.552483</td>\n",
              "      <td>-47.405759</td>\n",
              "      <td>BICICLETA</td>\n",
              "      <td>CONDUTOR</td>\n",
              "      <td>VIA</td>\n",
              "      <td>CHOQUE</td>\n",
              "      <td>MURO/PAREDE/TALUDE</td>\n",
              "      <td>Mesmo dia</td>\n",
              "      <td>FEMININO</td>\n",
              "      <td>30-34</td>\n",
              "      <td>30.0</td>\n",
              "      <td>NÃO HÁ</td>\n",
              "    </tr>\n",
              "  </tbody>\n",
              "</table>\n",
              "</div>"
            ],
            "text/plain": [
              "   Id da Delegacia (RDO)  ...  Outro Veículo Envolvido\n",
              "0                 120514  ...                   ONIBUS\n",
              "1                 120514  ...                   ONIBUS\n",
              "2                 110429  ...                   NÃO HÁ\n",
              "3                  30309  ...                AUTOMOVEL\n",
              "4                  70923  ...                   NÃO HÁ\n",
              "\n",
              "[5 rows x 34 columns]"
            ]
          },
          "metadata": {
            "tags": []
          },
          "execution_count": 23
        }
      ]
    },
    {
      "cell_type": "code",
      "metadata": {
        "id": "Dse21N4OZr7e",
        "colab_type": "code",
        "outputId": "27944ec1-197a-411b-fbbb-c715f9137a3a",
        "colab": {
          "base_uri": "https://localhost:8080/",
          "height": 34
        }
      },
      "source": [
        "#tamanho do nosso dataframe\n",
        "df.shape"
      ],
      "execution_count": 0,
      "outputs": [
        {
          "output_type": "execute_result",
          "data": {
            "text/plain": [
              "(30571, 34)"
            ]
          },
          "metadata": {
            "tags": []
          },
          "execution_count": 25
        }
      ]
    },
    {
      "cell_type": "code",
      "metadata": {
        "id": "TfYul5AMZr4O",
        "colab_type": "code",
        "colab": {}
      },
      "source": [
        "# captando e atribuindo novos nomes de somente colunas importantes para analise\n",
        "\n",
        "columns = {\n",
        "  'Data do Acidente' : 'data_acidente', \n",
        "  'Tipo de via' : 'tipo_via',\n",
        "  'Hora do Acidente' : 'hora_acidente',\n",
        "  'Município' : 'municipio',\n",
        "  'Logradouro' : 'logradouro',\n",
        "  'LAT_(GEO)' : 'lat',\n",
        "  'LONG_(GEO)' : 'lon',\n",
        "  'Tipo do veículo da vítima': 'tipo_veículo',\n",
        "  'Tipo de vítima' : 'tipo_vítima',\n",
        "  'Tipo de acidente' : 'tipo_acidente',\n",
        "  'Tempo entre o Acidente e o óbito' : 'tempo_acidente_obito',\n",
        "  'Sexo' : 'sexo',\n",
        "  'Idade da vítima' : 'idade',\n",
        "  'Outro Veículo Envolvido' : 'outro_veiculo_envolvido',\n",
        "  'Faixa etária' : 'faixa_etaria'\n",
        "}\n",
        "df = df.rename(columns, axis=1)"
      ],
      "execution_count": 0,
      "outputs": []
    },
    {
      "cell_type": "code",
      "metadata": {
        "id": "B8MZEkwoZrv_",
        "colab_type": "code",
        "colab": {}
      },
      "source": [
        "# substituindo o dataframe por colunas renomeadas\n",
        "\n",
        "df = df[list(columns.values())]"
      ],
      "execution_count": 0,
      "outputs": []
    },
    {
      "cell_type": "code",
      "metadata": {
        "id": "4fiRXvKFa5aq",
        "colab_type": "code",
        "outputId": "d3ba5ca7-99aa-47ed-b783-c20004f0c285",
        "colab": {
          "base_uri": "https://localhost:8080/",
          "height": 275
        }
      },
      "source": [
        "#mostrando 5 primeiras entradas dataframe atualizado\n",
        "df.head()"
      ],
      "execution_count": 0,
      "outputs": [
        {
          "output_type": "execute_result",
          "data": {
            "text/html": [
              "<div>\n",
              "<style scoped>\n",
              "    .dataframe tbody tr th:only-of-type {\n",
              "        vertical-align: middle;\n",
              "    }\n",
              "\n",
              "    .dataframe tbody tr th {\n",
              "        vertical-align: top;\n",
              "    }\n",
              "\n",
              "    .dataframe thead th {\n",
              "        text-align: right;\n",
              "    }\n",
              "</style>\n",
              "<table border=\"1\" class=\"dataframe\">\n",
              "  <thead>\n",
              "    <tr style=\"text-align: right;\">\n",
              "      <th></th>\n",
              "      <th>data_acidente</th>\n",
              "      <th>tipo_via</th>\n",
              "      <th>hora_acidente</th>\n",
              "      <th>municipio</th>\n",
              "      <th>logradouro</th>\n",
              "      <th>lat</th>\n",
              "      <th>lon</th>\n",
              "      <th>tipo_veículo</th>\n",
              "      <th>tipo_vítima</th>\n",
              "      <th>tipo_acidente</th>\n",
              "      <th>tempo_acidente_obito</th>\n",
              "      <th>sexo</th>\n",
              "      <th>idade</th>\n",
              "      <th>outro_veiculo_envolvido</th>\n",
              "      <th>faixa_etaria</th>\n",
              "    </tr>\n",
              "  </thead>\n",
              "  <tbody>\n",
              "    <tr>\n",
              "      <th>0</th>\n",
              "      <td>2020-04-30</td>\n",
              "      <td>Rodovias</td>\n",
              "      <td>17:30:00</td>\n",
              "      <td>ARACARIGUAMA</td>\n",
              "      <td>SP 280</td>\n",
              "      <td>-23.439186</td>\n",
              "      <td>-47.065945</td>\n",
              "      <td>ONIBUS</td>\n",
              "      <td>CONDUTOR</td>\n",
              "      <td>CHOQUE</td>\n",
              "      <td>Mesmo dia</td>\n",
              "      <td>MASCULINO</td>\n",
              "      <td>48.0</td>\n",
              "      <td>ONIBUS</td>\n",
              "      <td>45-49</td>\n",
              "    </tr>\n",
              "    <tr>\n",
              "      <th>1</th>\n",
              "      <td>2020-04-30</td>\n",
              "      <td>Rodovias</td>\n",
              "      <td>17:30:00</td>\n",
              "      <td>ARACARIGUAMA</td>\n",
              "      <td>SP 280</td>\n",
              "      <td>-23.439186</td>\n",
              "      <td>-47.065945</td>\n",
              "      <td>ONIBUS</td>\n",
              "      <td>PASSAGEIRO</td>\n",
              "      <td>CHOQUE</td>\n",
              "      <td>Mesmo dia</td>\n",
              "      <td>MASCULINO</td>\n",
              "      <td>36.0</td>\n",
              "      <td>ONIBUS</td>\n",
              "      <td>35-39</td>\n",
              "    </tr>\n",
              "    <tr>\n",
              "      <th>2</th>\n",
              "      <td>2020-04-17</td>\n",
              "      <td>Rodovias</td>\n",
              "      <td>3:50:00</td>\n",
              "      <td>SAO JOSE DO RIO PRETO</td>\n",
              "      <td>BR 153</td>\n",
              "      <td>-20.772532</td>\n",
              "      <td>-49.350863</td>\n",
              "      <td>MOTOCICLETA</td>\n",
              "      <td>CONDUTOR</td>\n",
              "      <td>CHOQUE</td>\n",
              "      <td>Até 30 dias</td>\n",
              "      <td>MASCULINO</td>\n",
              "      <td>26.0</td>\n",
              "      <td>NÃO HÁ</td>\n",
              "      <td>25-29</td>\n",
              "    </tr>\n",
              "    <tr>\n",
              "      <th>3</th>\n",
              "      <td>2020-04-30</td>\n",
              "      <td>Rodovias</td>\n",
              "      <td>18:30:00</td>\n",
              "      <td>SUZANO</td>\n",
              "      <td>SP 021</td>\n",
              "      <td>-23.566580</td>\n",
              "      <td>-46.342199</td>\n",
              "      <td>PEDESTRE</td>\n",
              "      <td>PEDESTRE</td>\n",
              "      <td>ATROPELAMENTO</td>\n",
              "      <td>Mesmo dia</td>\n",
              "      <td>MASCULINO</td>\n",
              "      <td>NaN</td>\n",
              "      <td>AUTOMOVEL</td>\n",
              "      <td>NAO DISPONIVEL</td>\n",
              "    </tr>\n",
              "    <tr>\n",
              "      <th>4</th>\n",
              "      <td>2020-04-30</td>\n",
              "      <td>Vias Municipais</td>\n",
              "      <td>17:50:00</td>\n",
              "      <td>LIMEIRA</td>\n",
              "      <td>RUA ITAPEMA</td>\n",
              "      <td>-22.552483</td>\n",
              "      <td>-47.405759</td>\n",
              "      <td>BICICLETA</td>\n",
              "      <td>CONDUTOR</td>\n",
              "      <td>CHOQUE</td>\n",
              "      <td>Mesmo dia</td>\n",
              "      <td>FEMININO</td>\n",
              "      <td>30.0</td>\n",
              "      <td>NÃO HÁ</td>\n",
              "      <td>30-34</td>\n",
              "    </tr>\n",
              "  </tbody>\n",
              "</table>\n",
              "</div>"
            ],
            "text/plain": [
              "  data_acidente         tipo_via  ... outro_veiculo_envolvido    faixa_etaria\n",
              "0    2020-04-30         Rodovias  ...                  ONIBUS           45-49\n",
              "1    2020-04-30         Rodovias  ...                  ONIBUS           35-39\n",
              "2    2020-04-17         Rodovias  ...                  NÃO HÁ           25-29\n",
              "3    2020-04-30         Rodovias  ...               AUTOMOVEL  NAO DISPONIVEL\n",
              "4    2020-04-30  Vias Municipais  ...                  NÃO HÁ           30-34\n",
              "\n",
              "[5 rows x 15 columns]"
            ]
          },
          "metadata": {
            "tags": []
          },
          "execution_count": 32
        }
      ]
    },
    {
      "cell_type": "markdown",
      "metadata": {
        "id": "HwBsSRjgnM0n",
        "colab_type": "text"
      },
      "source": [
        "## Visualização gráfica de informaçãoes relevantes"
      ]
    },
    {
      "cell_type": "code",
      "metadata": {
        "id": "UYoJOOnanWH2",
        "colab_type": "code",
        "outputId": "2d0539c9-dc5f-46b1-915e-d1bca454b70b",
        "colab": {
          "base_uri": "https://localhost:8080/",
          "height": 457
        }
      },
      "source": [
        "sns.countplot(df.tipo_via)\n",
        "plt.xticks(rotation=90)"
      ],
      "execution_count": 0,
      "outputs": [
        {
          "output_type": "execute_result",
          "data": {
            "text/plain": [
              "(array([0, 1, 2]), <a list of 3 Text major ticklabel objects>)"
            ]
          },
          "metadata": {
            "tags": []
          },
          "execution_count": 37
        },
        {
          "output_type": "display_data",
          "data": {
            "image/png": "[encoded data removed]",
            "text/plain": [
              "<Figure size 576x396 with 1 Axes>"
            ]
          },
          "metadata": {
            "tags": []
          }
        }
      ]
    },
    {
      "cell_type": "code",
      "metadata": {
        "id": "Rc_v6BMhnfdo",
        "colab_type": "code",
        "outputId": "a67ecd88-5219-481a-882c-a68ba73829dc",
        "colab": {
          "base_uri": "https://localhost:8080/",
          "height": 460
        }
      },
      "source": [
        "sns.countplot(df.tipo_acidente)\n",
        "plt.xticks(rotation=90)"
      ],
      "execution_count": 0,
      "outputs": [
        {
          "output_type": "execute_result",
          "data": {
            "text/plain": [
              "(array([0, 1, 2, 3, 4]), <a list of 5 Text major ticklabel objects>)"
            ]
          },
          "metadata": {
            "tags": []
          },
          "execution_count": 38
        },
        {
          "output_type": "display_data",
          "data": {
            "image/png": "[encoded data removed]",
            "text/plain": [
              "<Figure size 576x396 with 1 Axes>"
            ]
          },
          "metadata": {
            "tags": []
          }
        }
      ]
    },
    {
      "cell_type": "code",
      "metadata": {
        "id": "imakNbYhnfbG",
        "colab_type": "code",
        "outputId": "4f2d83c1-2d12-4368-d566-238206110a7c",
        "colab": {
          "base_uri": "https://localhost:8080/",
          "height": 458
        }
      },
      "source": [
        "sns.countplot(df.tipo_veículo)\n",
        "plt.xticks(rotation=90)"
      ],
      "execution_count": 0,
      "outputs": [
        {
          "output_type": "execute_result",
          "data": {
            "text/plain": [
              "(array([0, 1, 2, 3, 4, 5, 6, 7]), <a list of 8 Text major ticklabel objects>)"
            ]
          },
          "metadata": {
            "tags": []
          },
          "execution_count": 39
        },
        {
          "output_type": "display_data",
          "data": {
            "image/png": "[encoded data removed]",
            "text/plain": [
              "<Figure size 576x396 with 1 Axes>"
            ]
          },
          "metadata": {
            "tags": []
          }
        }
      ]
    },
    {
      "cell_type": "code",
      "metadata": {
        "id": "bOvi6UHbnfYg",
        "colab_type": "code",
        "outputId": "1cead088-b403-4b73-c658-c1d60df08c6c",
        "colab": {
          "base_uri": "https://localhost:8080/",
          "height": 458
        }
      },
      "source": [
        "sns.countplot(df.tipo_vítima)\n",
        "plt.xticks(rotation=90)"
      ],
      "execution_count": 0,
      "outputs": [
        {
          "output_type": "execute_result",
          "data": {
            "text/plain": [
              "(array([0, 1, 2, 3]), <a list of 4 Text major ticklabel objects>)"
            ]
          },
          "metadata": {
            "tags": []
          },
          "execution_count": 42
        },
        {
          "output_type": "display_data",
          "data": {
            "image/png": "[encoded data removed]",
            "text/plain": [
              "<Figure size 576x396 with 1 Axes>"
            ]
          },
          "metadata": {
            "tags": []
          }
        }
      ]
    },
    {
      "cell_type": "code",
      "metadata": {
        "id": "o0wq6C7LnfH2",
        "colab_type": "code",
        "outputId": "893adbd4-6d13-4d13-be05-b9b265741b59",
        "colab": {
          "base_uri": "https://localhost:8080/",
          "height": 456
        }
      },
      "source": [
        "sns.countplot(df.sexo)\n",
        "plt.xticks(rotation=90)"
      ],
      "execution_count": 0,
      "outputs": [
        {
          "output_type": "execute_result",
          "data": {
            "text/plain": [
              "(array([0, 1, 2]), <a list of 3 Text major ticklabel objects>)"
            ]
          },
          "metadata": {
            "tags": []
          },
          "execution_count": 44
        },
        {
          "output_type": "display_data",
          "data": {
            "image/png": "[encoded data removed]",
            "text/plain": [
              "<Figure size 576x396 with 1 Axes>"
            ]
          },
          "metadata": {
            "tags": []
          }
        }
      ]
    },
    {
      "cell_type": "code",
      "metadata": {
        "id": "rNm-sGOOx-Gg",
        "colab_type": "code",
        "outputId": "8a0651ce-9acb-488c-a3a2-917b6af27b1a",
        "colab": {
          "base_uri": "https://localhost:8080/",
          "height": 367
        }
      },
      "source": [
        "plt.scatter(df.lon, df.lat, s=1)"
      ],
      "execution_count": 0,
      "outputs": [
        {
          "output_type": "execute_result",
          "data": {
            "text/plain": [
              "<matplotlib.collections.PathCollection at 0x7fcc087da128>"
            ]
          },
          "metadata": {
            "tags": []
          },
          "execution_count": 48
        },
        {
          "output_type": "display_data",
          "data": {
            "image/png": "[encoded data removed]",
            "text/plain": [
              "<Figure size 576x396 with 1 Axes>"
            ]
          },
          "metadata": {
            "tags": []
          }
        }
      ]
    },
    {
      "cell_type": "markdown",
      "metadata": {
        "id": "HxNF1558vgJY",
        "colab_type": "text"
      },
      "source": [
        "## Conclusões\n",
        "\n",
        "Apesar da análise ter sido superficial, podemos observar e comprovar o que talvez a intuição já nos dizia, a maioria dos acidentes acontecem em vias municipais, por colisões, onde os veículos que mais se envolvem em acidentes fatais são as motocicletas, os dados também mostram que homens são a maioria dos casos.\n",
        "\n",
        "O gráfico de dispersão concentrou a maioria dos acidentes na capital do estado.\n",
        "\n",
        "Outras observações a serem feitas nessa análise, é que o número de mortes por atropelamento também é elevado, sendo o segundo maior causador de mortes.\n",
        "\n",
        "Uma informação complementar que pode ser encontrada no portal de notícias [Cidade de São Paulo](http://www.capital.sp.gov.br/noticia/acidentes-de-transito-custam-r-6-milhoes-a-saude), levantou que no ano de 2018, cerca de R$ 14,4 milhões de reais destinados a saúde foram utilizados com acidentes de trânsito, causando um grande impacto, vale pensar que todo acidente pode ser prevenido ou evitado.\n",
        "\n"
      ]
    }
  ]
}