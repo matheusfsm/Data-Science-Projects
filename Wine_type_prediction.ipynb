{
  "nbformat": 4,
  "nbformat_minor": 0,
  "metadata": {
    "colab": {
      "name": "Wine Type.ipynb",
      "provenance": [],
      "mount_file_id": "1-ZeZtqPYErF2UgdS07tXT-aExXOKpPPt",
      "authorship_tag": "ABX9TyOKqi7tjo4SXz+wDqrZw48R",
      "include_colab_link": true
    },
    "kernelspec": {
      "name": "python3",
      "display_name": "Python 3"
    }
  },
  "cells": [
    {
      "cell_type": "markdown",
      "metadata": {
        "id": "view-in-github",
        "colab_type": "text"
      },
      "source": [
        "<a href=\"https://colab.research.google.com/github/matheusfsm/datascience_steps/blob/master/Wine_type_prediction.ipynb\" target=\"_parent\"><img src=\"https://colab.research.google.com/assets/colab-badge.svg\" alt=\"Open In Colab\"/></a>"
      ]
    },
    {
      "cell_type": "markdown",
      "metadata": {
        "id": "A64LJ07BhbLM",
        "colab_type": "text"
      },
      "source": [
        "#**Machine Learning Model - (First Steps) - Wine Type**\n",
        "\n",
        "![texto alternativo](https://cdn.pixabay.com/photo/2016/10/22/20/34/wine-1761613_960_720.jpg)\n",
        "\n",
        "* This exploratory analysis has as objective the classification wine types, in the case, we have 2 wine types ( Red or White), and we need to make a prediction utilizing a machine learning model.\n",
        "\n",
        "\n",
        "* The dataset utilized on this exploratory analysis,\n",
        "can be found through this [link](https://www.kaggle.com/dell4010/wine-dataset?select=wine_dataset.csv)."
      ]
    },
    {
      "cell_type": "code",
      "metadata": {
        "id": "3m-CSH94hUd6",
        "colab_type": "code",
        "colab": {}
      },
      "source": [
        "# importing libraries\n",
        "import pandas as pd"
      ],
      "execution_count": null,
      "outputs": []
    },
    {
      "cell_type": "code",
      "metadata": {
        "id": "NL4L-vZEhZ6U",
        "colab_type": "code",
        "colab": {}
      },
      "source": [
        "# creating a new df\n",
        "df = pd.read_csv('/content/drive/My Drive/datasets_16721_22034_wine_dataset.csv')"
      ],
      "execution_count": null,
      "outputs": []
    },
    {
      "cell_type": "code",
      "metadata": {
        "id": "t3ueL8cHl-sr",
        "colab_type": "code",
        "colab": {
          "base_uri": "https://localhost:8080/",
          "height": 189
        },
        "outputId": "faace9f8-7fae-4448-8297-262692e963c5"
      },
      "source": [
        "# printing the first 5 rows the data\n",
        "df.head()"
      ],
      "execution_count": null,
      "outputs": [
        {
          "output_type": "execute_result",
          "data": {
            "text/html": [
              "<div>\n",
              "<style scoped>\n",
              "    .dataframe tbody tr th:only-of-type {\n",
              "        vertical-align: middle;\n",
              "    }\n",
              "\n",
              "    .dataframe tbody tr th {\n",
              "        vertical-align: top;\n",
              "    }\n",
              "\n",
              "    .dataframe thead th {\n",
              "        text-align: right;\n",
              "    }\n",
              "</style>\n",
              "<table border=\"1\" class=\"dataframe\">\n",
              "  <thead>\n",
              "    <tr style=\"text-align: right;\">\n",
              "      <th></th>\n",
              "      <th>fixed_acidity</th>\n",
              "      <th>volatile_acidity</th>\n",
              "      <th>citric_acid</th>\n",
              "      <th>residual_sugar</th>\n",
              "      <th>chlorides</th>\n",
              "      <th>free_sulfur_dioxide</th>\n",
              "      <th>total_sulfur_dioxide</th>\n",
              "      <th>density</th>\n",
              "      <th>pH</th>\n",
              "      <th>sulphates</th>\n",
              "      <th>alcohol</th>\n",
              "      <th>quality</th>\n",
              "      <th>style</th>\n",
              "    </tr>\n",
              "  </thead>\n",
              "  <tbody>\n",
              "    <tr>\n",
              "      <th>0</th>\n",
              "      <td>7.4</td>\n",
              "      <td>0.70</td>\n",
              "      <td>0.00</td>\n",
              "      <td>1.9</td>\n",
              "      <td>0.076</td>\n",
              "      <td>11.0</td>\n",
              "      <td>34.0</td>\n",
              "      <td>0.9978</td>\n",
              "      <td>3.51</td>\n",
              "      <td>0.56</td>\n",
              "      <td>9.4</td>\n",
              "      <td>5</td>\n",
              "      <td>red</td>\n",
              "    </tr>\n",
              "    <tr>\n",
              "      <th>1</th>\n",
              "      <td>7.8</td>\n",
              "      <td>0.88</td>\n",
              "      <td>0.00</td>\n",
              "      <td>2.6</td>\n",
              "      <td>0.098</td>\n",
              "      <td>25.0</td>\n",
              "      <td>67.0</td>\n",
              "      <td>0.9968</td>\n",
              "      <td>3.20</td>\n",
              "      <td>0.68</td>\n",
              "      <td>9.8</td>\n",
              "      <td>5</td>\n",
              "      <td>red</td>\n",
              "    </tr>\n",
              "    <tr>\n",
              "      <th>2</th>\n",
              "      <td>7.8</td>\n",
              "      <td>0.76</td>\n",
              "      <td>0.04</td>\n",
              "      <td>2.3</td>\n",
              "      <td>0.092</td>\n",
              "      <td>15.0</td>\n",
              "      <td>54.0</td>\n",
              "      <td>0.9970</td>\n",
              "      <td>3.26</td>\n",
              "      <td>0.65</td>\n",
              "      <td>9.8</td>\n",
              "      <td>5</td>\n",
              "      <td>red</td>\n",
              "    </tr>\n",
              "    <tr>\n",
              "      <th>3</th>\n",
              "      <td>11.2</td>\n",
              "      <td>0.28</td>\n",
              "      <td>0.56</td>\n",
              "      <td>1.9</td>\n",
              "      <td>0.075</td>\n",
              "      <td>17.0</td>\n",
              "      <td>60.0</td>\n",
              "      <td>0.9980</td>\n",
              "      <td>3.16</td>\n",
              "      <td>0.58</td>\n",
              "      <td>9.8</td>\n",
              "      <td>6</td>\n",
              "      <td>red</td>\n",
              "    </tr>\n",
              "    <tr>\n",
              "      <th>4</th>\n",
              "      <td>7.4</td>\n",
              "      <td>0.70</td>\n",
              "      <td>0.00</td>\n",
              "      <td>1.9</td>\n",
              "      <td>0.076</td>\n",
              "      <td>11.0</td>\n",
              "      <td>34.0</td>\n",
              "      <td>0.9978</td>\n",
              "      <td>3.51</td>\n",
              "      <td>0.56</td>\n",
              "      <td>9.4</td>\n",
              "      <td>5</td>\n",
              "      <td>red</td>\n",
              "    </tr>\n",
              "  </tbody>\n",
              "</table>\n",
              "</div>"
            ],
            "text/plain": [
              "   fixed_acidity  volatile_acidity  citric_acid  ...  alcohol  quality  style\n",
              "0            7.4              0.70         0.00  ...      9.4        5    red\n",
              "1            7.8              0.88         0.00  ...      9.8        5    red\n",
              "2            7.8              0.76         0.04  ...      9.8        5    red\n",
              "3           11.2              0.28         0.56  ...      9.8        6    red\n",
              "4            7.4              0.70         0.00  ...      9.4        5    red\n",
              "\n",
              "[5 rows x 13 columns]"
            ]
          },
          "metadata": {
            "tags": []
          },
          "execution_count": 27
        }
      ]
    },
    {
      "cell_type": "code",
      "metadata": {
        "id": "Q51No6w3l_zO",
        "colab_type": "code",
        "colab": {}
      },
      "source": [
        "# replacing the variable 'style' with binary values, 0 for Red, and 1 for White.\n",
        "df['style'] = df['style'].replace('red', 0)\n",
        "df['style'] = df['style'].replace('white', 1)"
      ],
      "execution_count": null,
      "outputs": []
    },
    {
      "cell_type": "code",
      "metadata": {
        "id": "SRu1WhS_p-Y6",
        "colab_type": "code",
        "colab": {}
      },
      "source": [
        "# dropping column 'style' the vairable x for before splitting them\n",
        "y = df['style']\n",
        "x = df.drop('style', axis=1)"
      ],
      "execution_count": null,
      "outputs": []
    },
    {
      "cell_type": "code",
      "metadata": {
        "id": "ti4kxb17u98A",
        "colab_type": "code",
        "colab": {
          "base_uri": "https://localhost:8080/",
          "height": 417
        },
        "outputId": "0f594f88-8348-4745-b415-67f5fa800cf8"
      },
      "source": [
        "# printing the correlations matrix\n",
        "corr = df.corr()\n",
        "corr"
      ],
      "execution_count": null,
      "outputs": [
        {
          "output_type": "execute_result",
          "data": {
            "text/html": [
              "<div>\n",
              "<style scoped>\n",
              "    .dataframe tbody tr th:only-of-type {\n",
              "        vertical-align: middle;\n",
              "    }\n",
              "\n",
              "    .dataframe tbody tr th {\n",
              "        vertical-align: top;\n",
              "    }\n",
              "\n",
              "    .dataframe thead th {\n",
              "        text-align: right;\n",
              "    }\n",
              "</style>\n",
              "<table border=\"1\" class=\"dataframe\">\n",
              "  <thead>\n",
              "    <tr style=\"text-align: right;\">\n",
              "      <th></th>\n",
              "      <th>fixed_acidity</th>\n",
              "      <th>volatile_acidity</th>\n",
              "      <th>citric_acid</th>\n",
              "      <th>residual_sugar</th>\n",
              "      <th>chlorides</th>\n",
              "      <th>free_sulfur_dioxide</th>\n",
              "      <th>total_sulfur_dioxide</th>\n",
              "      <th>density</th>\n",
              "      <th>pH</th>\n",
              "      <th>sulphates</th>\n",
              "      <th>alcohol</th>\n",
              "      <th>quality</th>\n",
              "      <th>style</th>\n",
              "    </tr>\n",
              "  </thead>\n",
              "  <tbody>\n",
              "    <tr>\n",
              "      <th>fixed_acidity</th>\n",
              "      <td>1.000000</td>\n",
              "      <td>0.219008</td>\n",
              "      <td>0.324436</td>\n",
              "      <td>-0.111981</td>\n",
              "      <td>0.298195</td>\n",
              "      <td>-0.282735</td>\n",
              "      <td>-0.329054</td>\n",
              "      <td>0.458910</td>\n",
              "      <td>-0.252700</td>\n",
              "      <td>0.299568</td>\n",
              "      <td>-0.095452</td>\n",
              "      <td>-0.076743</td>\n",
              "      <td>-0.486740</td>\n",
              "    </tr>\n",
              "    <tr>\n",
              "      <th>volatile_acidity</th>\n",
              "      <td>0.219008</td>\n",
              "      <td>1.000000</td>\n",
              "      <td>-0.377981</td>\n",
              "      <td>-0.196011</td>\n",
              "      <td>0.377124</td>\n",
              "      <td>-0.352557</td>\n",
              "      <td>-0.414476</td>\n",
              "      <td>0.271296</td>\n",
              "      <td>0.261454</td>\n",
              "      <td>0.225984</td>\n",
              "      <td>-0.037640</td>\n",
              "      <td>-0.265699</td>\n",
              "      <td>-0.653036</td>\n",
              "    </tr>\n",
              "    <tr>\n",
              "      <th>citric_acid</th>\n",
              "      <td>0.324436</td>\n",
              "      <td>-0.377981</td>\n",
              "      <td>1.000000</td>\n",
              "      <td>0.142451</td>\n",
              "      <td>0.038998</td>\n",
              "      <td>0.133126</td>\n",
              "      <td>0.195242</td>\n",
              "      <td>0.096154</td>\n",
              "      <td>-0.329808</td>\n",
              "      <td>0.056197</td>\n",
              "      <td>-0.010493</td>\n",
              "      <td>0.085532</td>\n",
              "      <td>0.187397</td>\n",
              "    </tr>\n",
              "    <tr>\n",
              "      <th>residual_sugar</th>\n",
              "      <td>-0.111981</td>\n",
              "      <td>-0.196011</td>\n",
              "      <td>0.142451</td>\n",
              "      <td>1.000000</td>\n",
              "      <td>-0.128940</td>\n",
              "      <td>0.402871</td>\n",
              "      <td>0.495482</td>\n",
              "      <td>0.552517</td>\n",
              "      <td>-0.267320</td>\n",
              "      <td>-0.185927</td>\n",
              "      <td>-0.359415</td>\n",
              "      <td>-0.036980</td>\n",
              "      <td>0.348821</td>\n",
              "    </tr>\n",
              "    <tr>\n",
              "      <th>chlorides</th>\n",
              "      <td>0.298195</td>\n",
              "      <td>0.377124</td>\n",
              "      <td>0.038998</td>\n",
              "      <td>-0.128940</td>\n",
              "      <td>1.000000</td>\n",
              "      <td>-0.195045</td>\n",
              "      <td>-0.279630</td>\n",
              "      <td>0.362615</td>\n",
              "      <td>0.044708</td>\n",
              "      <td>0.395593</td>\n",
              "      <td>-0.256916</td>\n",
              "      <td>-0.200666</td>\n",
              "      <td>-0.512678</td>\n",
              "    </tr>\n",
              "    <tr>\n",
              "      <th>free_sulfur_dioxide</th>\n",
              "      <td>-0.282735</td>\n",
              "      <td>-0.352557</td>\n",
              "      <td>0.133126</td>\n",
              "      <td>0.402871</td>\n",
              "      <td>-0.195045</td>\n",
              "      <td>1.000000</td>\n",
              "      <td>0.720934</td>\n",
              "      <td>0.025717</td>\n",
              "      <td>-0.145854</td>\n",
              "      <td>-0.188457</td>\n",
              "      <td>-0.179838</td>\n",
              "      <td>0.055463</td>\n",
              "      <td>0.471644</td>\n",
              "    </tr>\n",
              "    <tr>\n",
              "      <th>total_sulfur_dioxide</th>\n",
              "      <td>-0.329054</td>\n",
              "      <td>-0.414476</td>\n",
              "      <td>0.195242</td>\n",
              "      <td>0.495482</td>\n",
              "      <td>-0.279630</td>\n",
              "      <td>0.720934</td>\n",
              "      <td>1.000000</td>\n",
              "      <td>0.032395</td>\n",
              "      <td>-0.238413</td>\n",
              "      <td>-0.275727</td>\n",
              "      <td>-0.265740</td>\n",
              "      <td>-0.041385</td>\n",
              "      <td>0.700357</td>\n",
              "    </tr>\n",
              "    <tr>\n",
              "      <th>density</th>\n",
              "      <td>0.458910</td>\n",
              "      <td>0.271296</td>\n",
              "      <td>0.096154</td>\n",
              "      <td>0.552517</td>\n",
              "      <td>0.362615</td>\n",
              "      <td>0.025717</td>\n",
              "      <td>0.032395</td>\n",
              "      <td>1.000000</td>\n",
              "      <td>0.011686</td>\n",
              "      <td>0.259478</td>\n",
              "      <td>-0.686745</td>\n",
              "      <td>-0.305858</td>\n",
              "      <td>-0.390645</td>\n",
              "    </tr>\n",
              "    <tr>\n",
              "      <th>pH</th>\n",
              "      <td>-0.252700</td>\n",
              "      <td>0.261454</td>\n",
              "      <td>-0.329808</td>\n",
              "      <td>-0.267320</td>\n",
              "      <td>0.044708</td>\n",
              "      <td>-0.145854</td>\n",
              "      <td>-0.238413</td>\n",
              "      <td>0.011686</td>\n",
              "      <td>1.000000</td>\n",
              "      <td>0.192123</td>\n",
              "      <td>0.121248</td>\n",
              "      <td>0.019506</td>\n",
              "      <td>-0.329129</td>\n",
              "    </tr>\n",
              "    <tr>\n",
              "      <th>sulphates</th>\n",
              "      <td>0.299568</td>\n",
              "      <td>0.225984</td>\n",
              "      <td>0.056197</td>\n",
              "      <td>-0.185927</td>\n",
              "      <td>0.395593</td>\n",
              "      <td>-0.188457</td>\n",
              "      <td>-0.275727</td>\n",
              "      <td>0.259478</td>\n",
              "      <td>0.192123</td>\n",
              "      <td>1.000000</td>\n",
              "      <td>-0.003029</td>\n",
              "      <td>0.038485</td>\n",
              "      <td>-0.487218</td>\n",
              "    </tr>\n",
              "    <tr>\n",
              "      <th>alcohol</th>\n",
              "      <td>-0.095452</td>\n",
              "      <td>-0.037640</td>\n",
              "      <td>-0.010493</td>\n",
              "      <td>-0.359415</td>\n",
              "      <td>-0.256916</td>\n",
              "      <td>-0.179838</td>\n",
              "      <td>-0.265740</td>\n",
              "      <td>-0.686745</td>\n",
              "      <td>0.121248</td>\n",
              "      <td>-0.003029</td>\n",
              "      <td>1.000000</td>\n",
              "      <td>0.444319</td>\n",
              "      <td>0.032970</td>\n",
              "    </tr>\n",
              "    <tr>\n",
              "      <th>quality</th>\n",
              "      <td>-0.076743</td>\n",
              "      <td>-0.265699</td>\n",
              "      <td>0.085532</td>\n",
              "      <td>-0.036980</td>\n",
              "      <td>-0.200666</td>\n",
              "      <td>0.055463</td>\n",
              "      <td>-0.041385</td>\n",
              "      <td>-0.305858</td>\n",
              "      <td>0.019506</td>\n",
              "      <td>0.038485</td>\n",
              "      <td>0.444319</td>\n",
              "      <td>1.000000</td>\n",
              "      <td>0.119323</td>\n",
              "    </tr>\n",
              "    <tr>\n",
              "      <th>style</th>\n",
              "      <td>-0.486740</td>\n",
              "      <td>-0.653036</td>\n",
              "      <td>0.187397</td>\n",
              "      <td>0.348821</td>\n",
              "      <td>-0.512678</td>\n",
              "      <td>0.471644</td>\n",
              "      <td>0.700357</td>\n",
              "      <td>-0.390645</td>\n",
              "      <td>-0.329129</td>\n",
              "      <td>-0.487218</td>\n",
              "      <td>0.032970</td>\n",
              "      <td>0.119323</td>\n",
              "      <td>1.000000</td>\n",
              "    </tr>\n",
              "  </tbody>\n",
              "</table>\n",
              "</div>"
            ],
            "text/plain": [
              "                      fixed_acidity  volatile_acidity  ...   quality     style\n",
              "fixed_acidity              1.000000          0.219008  ... -0.076743 -0.486740\n",
              "volatile_acidity           0.219008          1.000000  ... -0.265699 -0.653036\n",
              "citric_acid                0.324436         -0.377981  ...  0.085532  0.187397\n",
              "residual_sugar            -0.111981         -0.196011  ... -0.036980  0.348821\n",
              "chlorides                  0.298195          0.377124  ... -0.200666 -0.512678\n",
              "free_sulfur_dioxide       -0.282735         -0.352557  ...  0.055463  0.471644\n",
              "total_sulfur_dioxide      -0.329054         -0.414476  ... -0.041385  0.700357\n",
              "density                    0.458910          0.271296  ... -0.305858 -0.390645\n",
              "pH                        -0.252700          0.261454  ...  0.019506 -0.329129\n",
              "sulphates                  0.299568          0.225984  ...  0.038485 -0.487218\n",
              "alcohol                   -0.095452         -0.037640  ...  0.444319  0.032970\n",
              "quality                   -0.076743         -0.265699  ...  1.000000  0.119323\n",
              "style                     -0.486740         -0.653036  ...  0.119323  1.000000\n",
              "\n",
              "[13 rows x 13 columns]"
            ]
          },
          "metadata": {
            "tags": []
          },
          "execution_count": 82
        }
      ]
    },
    {
      "cell_type": "code",
      "metadata": {
        "id": "JwU69v73zbqg",
        "colab_type": "code",
        "colab": {
          "base_uri": "https://localhost:8080/",
          "height": 574
        },
        "outputId": "25f61058-24d3-4575-9b40-22cdef2f863e"
      },
      "source": [
        "# Generate a custom diverging colormap\n",
        "#sns.palplot(sns.cubehelix_palette(8, start=2, rot=0, dark=0, light=.95, reverse=True))\n",
        "#cmap = sns.diverging_palette(220, 10, as_cmap=True)\n",
        "#cmap = sns.dark_palette(\"purple\", as_cmap=True)\n",
        "#cmap = sns.cubehelix_palette(8, start=2, rot=0, dark=0, light=.95, reverse=True, as_cmap=True)\n",
        "cmap = sns.diverging_palette(11, 197, sep=80, n=7, as_cmap=True)\n",
        "\n",
        "# Printing Correlation Matriz with Seaborn\n",
        "f, ax = plt.subplots(figsize=(10, 8))\n",
        "sns.heatmap(corr, cmap=cmap, fmt= '.2f', square=True, linewidths=1, linecolor='white', ax=ax, annot=True );"
      ],
      "execution_count": null,
      "outputs": [
        {
          "output_type": "display_data",
          "data": {
            "image/png": "[encoded data removed]",
            "text/plain": [
              "<Figure size 720x576 with 2 Axes>"
            ]
          },
          "metadata": {
            "tags": [],
            "needs_background": "light"
          }
        }
      ]
    },
    {
      "cell_type": "code",
      "metadata": {
        "id": "XwhXlIHCrs1V",
        "colab_type": "code",
        "colab": {}
      },
      "source": [
        "# importing machine learning librarie\n",
        "\n",
        "from sklearn.model_selection import train_test_split"
      ],
      "execution_count": null,
      "outputs": []
    },
    {
      "cell_type": "code",
      "metadata": {
        "id": "XvRgiifcsKcY",
        "colab_type": "code",
        "colab": {}
      },
      "source": [
        "# splitting the data into 2 variables, predictor and target being y and x\n",
        "x_train, x_test, y_train, y_test = train_test_split(x, y, test_size = 0.3)"
      ],
      "execution_count": null,
      "outputs": []
    },
    {
      "cell_type": "code",
      "metadata": {
        "id": "9VC4ZCdetkM5",
        "colab_type": "code",
        "colab": {
          "base_uri": "https://localhost:8080/",
          "height": 34
        },
        "outputId": "a2db33b7-a3d3-4c31-c8cc-03ca987898f8"
      },
      "source": [
        "x_test.shape"
      ],
      "execution_count": null,
      "outputs": [
        {
          "output_type": "execute_result",
          "data": {
            "text/plain": [
              "(1950, 12)"
            ]
          },
          "metadata": {
            "tags": []
          },
          "execution_count": 46
        }
      ]
    },
    {
      "cell_type": "code",
      "metadata": {
        "id": "q5bo8xd5uIzp",
        "colab_type": "code",
        "colab": {}
      },
      "source": [
        "# importing the algorithm\n",
        "from sklearn.ensemble import ExtraTreesClassifier"
      ],
      "execution_count": null,
      "outputs": []
    },
    {
      "cell_type": "code",
      "metadata": {
        "id": "wb67lLRpuwpM",
        "colab_type": "code",
        "colab": {
          "base_uri": "https://localhost:8080/",
          "height": 34
        },
        "outputId": "89da45aa-f631-4d99-cf4c-046acd24d6ad"
      },
      "source": [
        "# creating a model for fit\n",
        "model = ExtraTreesClassifier()\n",
        "model.fit(x_train, y_train)\n",
        "\n",
        "# Accuracy\n",
        "acc = model.score(x_test, y_test)\n",
        "\n",
        "print('The accuracy of the model is: {:.4f}'.format(acc))\n"
      ],
      "execution_count": null,
      "outputs": [
        {
          "output_type": "stream",
          "text": [
            "The accuracy of the model is: 0.9954\n"
          ],
          "name": "stdout"
        }
      ]
    },
    {
      "cell_type": "code",
      "metadata": {
        "id": "hJNbK5iAxYHG",
        "colab_type": "code",
        "colab": {}
      },
      "source": [
        "# importing visualisation libraries\n",
        "import seaborn as sns\n",
        "import matplotlib.pyplot as plt\n"
      ],
      "execution_count": null,
      "outputs": []
    },
    {
      "cell_type": "code",
      "metadata": {
        "id": "5R07JXCL21HE",
        "colab_type": "code",
        "colab": {
          "base_uri": "https://localhost:8080/",
          "height": 86
        },
        "outputId": "b2285e98-704f-48ac-f465-6e5ca8456d01"
      },
      "source": [
        "# printing y_test\n",
        "y_test[405:408]"
      ],
      "execution_count": null,
      "outputs": [
        {
          "output_type": "execute_result",
          "data": {
            "text/plain": [
              "4031    1\n",
              "1322    0\n",
              "1535    0\n",
              "Name: style, dtype: int64"
            ]
          },
          "metadata": {
            "tags": []
          },
          "execution_count": 99
        }
      ]
    },
    {
      "cell_type": "code",
      "metadata": {
        "id": "nlTdICgs3427",
        "colab_type": "code",
        "colab": {
          "base_uri": "https://localhost:8080/",
          "height": 132
        },
        "outputId": "999c41b7-7889-482d-cc2b-9f8f097d8dce"
      },
      "source": [
        "# printing x_test\n",
        "x_test[405:408]"
      ],
      "execution_count": null,
      "outputs": [
        {
          "output_type": "execute_result",
          "data": {
            "text/html": [
              "<div>\n",
              "<style scoped>\n",
              "    .dataframe tbody tr th:only-of-type {\n",
              "        vertical-align: middle;\n",
              "    }\n",
              "\n",
              "    .dataframe tbody tr th {\n",
              "        vertical-align: top;\n",
              "    }\n",
              "\n",
              "    .dataframe thead th {\n",
              "        text-align: right;\n",
              "    }\n",
              "</style>\n",
              "<table border=\"1\" class=\"dataframe\">\n",
              "  <thead>\n",
              "    <tr style=\"text-align: right;\">\n",
              "      <th></th>\n",
              "      <th>fixed_acidity</th>\n",
              "      <th>volatile_acidity</th>\n",
              "      <th>citric_acid</th>\n",
              "      <th>residual_sugar</th>\n",
              "      <th>chlorides</th>\n",
              "      <th>free_sulfur_dioxide</th>\n",
              "      <th>total_sulfur_dioxide</th>\n",
              "      <th>density</th>\n",
              "      <th>pH</th>\n",
              "      <th>sulphates</th>\n",
              "      <th>alcohol</th>\n",
              "      <th>quality</th>\n",
              "    </tr>\n",
              "  </thead>\n",
              "  <tbody>\n",
              "    <tr>\n",
              "      <th>4031</th>\n",
              "      <td>6.4</td>\n",
              "      <td>0.27</td>\n",
              "      <td>0.17</td>\n",
              "      <td>8.4</td>\n",
              "      <td>0.044</td>\n",
              "      <td>60.0</td>\n",
              "      <td>198.0</td>\n",
              "      <td>0.99578</td>\n",
              "      <td>3.21</td>\n",
              "      <td>0.47</td>\n",
              "      <td>9.4</td>\n",
              "      <td>5</td>\n",
              "    </tr>\n",
              "    <tr>\n",
              "      <th>1322</th>\n",
              "      <td>9.1</td>\n",
              "      <td>0.34</td>\n",
              "      <td>0.42</td>\n",
              "      <td>1.8</td>\n",
              "      <td>0.058</td>\n",
              "      <td>9.0</td>\n",
              "      <td>18.0</td>\n",
              "      <td>0.99392</td>\n",
              "      <td>3.18</td>\n",
              "      <td>0.55</td>\n",
              "      <td>11.4</td>\n",
              "      <td>5</td>\n",
              "    </tr>\n",
              "    <tr>\n",
              "      <th>1535</th>\n",
              "      <td>7.0</td>\n",
              "      <td>0.55</td>\n",
              "      <td>0.13</td>\n",
              "      <td>2.2</td>\n",
              "      <td>0.075</td>\n",
              "      <td>15.0</td>\n",
              "      <td>35.0</td>\n",
              "      <td>0.99590</td>\n",
              "      <td>3.36</td>\n",
              "      <td>0.59</td>\n",
              "      <td>9.7</td>\n",
              "      <td>6</td>\n",
              "    </tr>\n",
              "  </tbody>\n",
              "</table>\n",
              "</div>"
            ],
            "text/plain": [
              "      fixed_acidity  volatile_acidity  citric_acid  ...  sulphates  alcohol  quality\n",
              "4031            6.4              0.27         0.17  ...       0.47      9.4        5\n",
              "1322            9.1              0.34         0.42  ...       0.55     11.4        5\n",
              "1535            7.0              0.55         0.13  ...       0.59      9.7        6\n",
              "\n",
              "[3 rows x 12 columns]"
            ]
          },
          "metadata": {
            "tags": []
          },
          "execution_count": 100
        }
      ]
    },
    {
      "cell_type": "code",
      "metadata": {
        "id": "ciFl-7u53-WF",
        "colab_type": "code",
        "colab": {}
      },
      "source": [
        "# making predictions\n",
        "predictions = model.predict(x_test[405:408])"
      ],
      "execution_count": null,
      "outputs": []
    },
    {
      "cell_type": "code",
      "metadata": {
        "id": "Ehm_eS5m47Hd",
        "colab_type": "code",
        "colab": {
          "base_uri": "https://localhost:8080/",
          "height": 34
        },
        "outputId": "6ca57658-fd00-407f-acd2-ef4432f10ba3"
      },
      "source": [
        "#printing predictions\n",
        "predictions"
      ],
      "execution_count": null,
      "outputs": [
        {
          "output_type": "execute_result",
          "data": {
            "text/plain": [
              "array([1, 0, 0])"
            ]
          },
          "metadata": {
            "tags": []
          },
          "execution_count": 107
        }
      ]
    }
  ]
}